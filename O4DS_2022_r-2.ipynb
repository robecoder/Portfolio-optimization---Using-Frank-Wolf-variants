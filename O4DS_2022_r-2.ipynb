{
  "nbformat": 4,
  "nbformat_minor": 0,
  "metadata": {
    "colab": {
      "name": "O4DS 2022 r.ipynb",
      "provenance": []
    },
    "kernelspec": {
      "name": "python3",
      "display_name": "Python 3"
    },
    "language_info": {
      "name": "python"
    }
  },
  "cells": [
    {
      "cell_type": "code",
      "source": [
        "!pip install yahoofinancials"
      ],
      "metadata": {
        "colab": {
          "base_uri": "https://localhost:8080/"
        },
        "id": "ULBhc5idiY29",
        "outputId": "70f10840-e032-42df-815b-a7c55a9420b2"
      },
      "execution_count": null,
      "outputs": [
        {
          "output_type": "stream",
          "name": "stdout",
          "text": [
            "Looking in indexes: https://pypi.org/simple, https://us-python.pkg.dev/colab-wheels/public/simple/\n",
            "Collecting yahoofinancials\n",
            "  Downloading yahoofinancials-1.6.tar.gz (27 kB)\n",
            "Requirement already satisfied: beautifulsoup4 in /usr/local/lib/python3.7/dist-packages (from yahoofinancials) (4.6.3)\n",
            "Requirement already satisfied: pytz in /usr/local/lib/python3.7/dist-packages (from yahoofinancials) (2022.1)\n",
            "Building wheels for collected packages: yahoofinancials\n",
            "  Building wheel for yahoofinancials (setup.py) ... \u001b[?25l\u001b[?25hdone\n",
            "  Created wheel for yahoofinancials: filename=yahoofinancials-1.6-py3-none-any.whl size=15192 sha256=ce6261e680ce4fe372941aa1e83aff649263e27dd4435195c60a21694c67c958\n",
            "  Stored in directory: /root/.cache/pip/wheels/4b/63/46/e7110bfee88685fe69e338d1b14d1748921862aa57b6705b60\n",
            "Successfully built yahoofinancials\n",
            "Installing collected packages: yahoofinancials\n",
            "Successfully installed yahoofinancials-1.6\n"
          ]
        }
      ]
    },
    {
      "cell_type": "code",
      "source": [
        "import numpy as np\n",
        "import matplotlib.pyplot as plt\n",
        "import time\n",
        "import pandas as pd\n",
        "from yahoofinancials import YahooFinancials\n",
        "from datetime import datetime\n",
        "from timeit import default_timer\n",
        "import seaborn as sns"
      ],
      "metadata": {
        "id": "ZSUrEZ7tij2O"
      },
      "execution_count": null,
      "outputs": []
    },
    {
      "cell_type": "code",
      "execution_count": null,
      "metadata": {
        "id": "6XRe0WxhTv4c"
      },
      "outputs": [],
      "source": [
        "def step_function(r, x_t, f_x, g,  d_t, x0, L): #Algorithm 3\n",
        "    if type(x0) == int:\n",
        "        x0 = x_t \n",
        "        #print(\"x0:\", x0)\n",
        "    epsilon = 10e-3\n",
        "    k1 = 0.9\n",
        "    k2 = 2\n",
        "    nL = k1 * L\n",
        "    den=d_t.T @ d_t # ||d||^2\n",
        "    if den==0: # since it goes to the denominator I check that it is not 0\n",
        "      den=0.0000001 #think about substituting this with a stop of the algorithm\n",
        "    clip = g ** 2 / ((2 * (objective(x0, r) - f_x) * den)+0.0000001) # this value ha to be comprised between nL and L\n",
        "    \n",
        "    M = np.clip(clip ,nL, L) ## the value clip is bounded by upper bound nL and lower bound L \n",
        "    \n",
        "        \n",
        "        \n",
        "    \n",
        "    bound = g / (M * den) \n",
        "    gamma = min(bound, 1)\n",
        "    #whiel the function is bigger than quadratic approximation do:\n",
        "    while objective(x_t + (gamma * d_t), r) > (f_x - (gamma * g) + ( (gamma ** 2) * M) * (den)) : \n",
        "        M = k2 * M\n",
        "        bound = g / ((M * den)+0.0000001) \n",
        "        \n",
        "        gamma = min(bound, 1)\n",
        "    return gamma,  M"
      ]
    },
    {
      "cell_type": "markdown",
      "source": [
        "The computation of the cost function can be seen as matrix multiplication between:\n",
        "\n",
        "*    $R$ with size $(m, n)$, where $m$ is the number of periods and $n$ is the number of assets, so that the row $i$ represents the value of the return of each assets in the period $i$\n",
        "*   $x$ that is the column vector with shape $(n, 1)$ that gives us the percentage to invest for each asset.\n",
        "\n",
        "In this way the matrix multiplication between each row of $R$ and $x$ will correspond to exponential of the each element of the summatory $\\sum_{i=1}^{T} ln(r_{i}x)$, where $T$ is the number of period. So what is left is to apply the logaritmic function to every of those terms.\n",
        "\n"
      ],
      "metadata": {
        "id": "bMyPqvpiBA8H"
      }
    },
    {
      "cell_type": "code",
      "source": [
        "def objective(x, r):\n",
        "  x=x.reshape(-1,1) #reshape the vector to perform the next operation\n",
        "  a=np.dot(r, x ) #dot product\n",
        "  a=np.where(a!=0, a, a+0.0001) \n",
        "  \n",
        "  #print('o', np.sum(a))#eleminating eventual zero elements\n",
        "  #a will be a vector of m elements, one for each period\n",
        "  return np.sum(-np.log(a))"
      ],
      "metadata": {
        "id": "v-WBy4l6hlN1"
      },
      "execution_count": null,
      "outputs": []
    },
    {
      "cell_type": "markdown",
      "source": [
        "The computation of the gradient follows the same logic as before, we will get a colum vector of 250 elements, and then we will perform an element wise multiplication between this vector and the matrix $R$. After this we will sum with respect to the colum in order to get the gradient for each element of $x$."
      ],
      "metadata": {
        "id": "xatPoaAREfCw"
      }
    },
    {
      "cell_type": "code",
      "source": [
        "def gradient(x, r):\n",
        "  x=x.reshape(-1,1)\n",
        "  a=np.dot(r, x )\n",
        "  a=np.where(a!=0, a, a+0.0001) #up to here same as befor\n",
        "  \n",
        "  return np.sum(-(1/a)*r, axis=0) # multiplying for R and summing with respect to the column"
      ],
      "metadata": {
        "id": "Avql3fiAil6D"
      },
      "execution_count": null,
      "outputs": []
    },
    {
      "cell_type": "code",
      "source": [
        "def arimjo_ls(xt, fx, gamma_max, gt, dt, r):\n",
        "    gamma = gamma_max\n",
        "    p = 0.1*(-gt) # quantity that goes in the armijo line search\n",
        "    f= objective(xt + gamma * dt, r)\n",
        "    while (f > (fx + gamma * p)): # while the function is biggr than the linear approximation\n",
        "      gamma=0.7*gamma #reduce the step size\n",
        "      f = objective(xt + gamma * dt, r) \n",
        "    return gamma\n",
        "    "
      ],
      "metadata": {
        "id": "0xMAAZF1T2qe"
      },
      "execution_count": null,
      "outputs": []
    },
    {
      "cell_type": "code",
      "source": [
        "def LMO(gradient_xt): \n",
        "    sti = np.argmin(gradient_xt) \n",
        "    st = np.zeros(gradient_xt.shape[0])\n",
        "    st[sti]=1 # simplex[sti] only thing left to be defined is simplex\n",
        "    return st, sti"
      ],
      "metadata": {
        "id": "JI0yeSpEUYEb"
      },
      "execution_count": null,
      "outputs": []
    },
    {
      "cell_type": "code",
      "source": [
        "def frank_wolfe(objective, gradient, return_matrix, max_iter):\n",
        "    # n_periods = return_matrix.shape[0]\n",
        "    n_assets = return_matrix.shape[1]\n",
        "    \n",
        "    eps = 1e-6\n",
        "    # Our solution is a vector x, |x| = n_assets - \n",
        "    # investment distribution\n",
        "    # We pick initial approximation for x - any\n",
        "    # simplex vertex\n",
        "    vertex_to_start = 1\n",
        "    assert vertex_to_start < n_assets, print('Pick another initial approximation')\n",
        "    x = np.zeros(n_assets)\n",
        "    x[vertex_to_start] = 1  # initial approximation - all money to one asset\n",
        "\n",
        "    objective_values = [objective(x, return_matrix)]  # objective function\n",
        "    gap_list=[]\n",
        "\n",
        "    algo_start = default_timer()\n",
        "    iterations_counter = 0\n",
        "    for k in range(1, max_iter + 1):\n",
        "        iterations_counter += 1\n",
        "        # Compute gradient of objective function\n",
        "        grad_vector = gradient(x, return_matrix)\n",
        "        #assert(grad_vector.shape[0] == len(x))\n",
        "\n",
        "        # FW for simplex problem --> minimum of linear\n",
        "        # function will be reached on the vertex of the simplex\n",
        "        # Here we search for index with minimum gradient\n",
        "        # component\n",
        "        min_index = np.argmin(grad_vector)\n",
        "        #assert grad_vector[min_index] <= 0, print(f'Minimum of gradient vector is positive')\n",
        "        \n",
        "        # x_k^ = e_ik from lectures - direction where to go\n",
        "        xk_hat = np.zeros(n_assets)\n",
        "        assert(len(xk_hat) == len(grad_vector))\n",
        "        xk_hat[min_index] = 1\n",
        "        d = (xk_hat - x)\n",
        "        gap=-grad_vector @ d\n",
        "        gap_list.append(gap)\n",
        "        if gap <= eps:\n",
        "            print(f'Satisfied exiting condition')\n",
        "            break\n",
        "        else:\n",
        "            learning_rate = 2 / (k + 1)\n",
        "            x = x + learning_rate * d\n",
        "            obj = objective(x, return_matrix)\n",
        "            \n",
        "            objective_values.append(obj)  # objective function\n",
        "    # that sum of distribution is 100%\n",
        "    algo_end = default_timer()\n",
        "    delta_t = algo_end - algo_start\n",
        "    return x, objective_values, gap_list, iterations_counter"
      ],
      "metadata": {
        "id": "y7kNz-tvU84m"
      },
      "execution_count": null,
      "outputs": []
    },
    {
      "cell_type": "code",
      "source": [
        "def variant2(objective,  gradient, r,  max_iter = 1000):\n",
        "  eps = 1e-6\n",
        "  \n",
        "      \n",
        "  xt  = np.zeros(r.shape[1])\n",
        "  xt[0]=1\n",
        "  x0=0 #initialize this variable to keep track of the previus value of x w.r.t. to the curret iteration\n",
        "  #it is needed in the step_function\n",
        "  gap_list=[]\n",
        "  \n",
        "  o=[] #store the objective function values during the iteration\n",
        "  algo_start = default_timer()\n",
        "  for i in range(max_iter):\n",
        "    if i==0:\n",
        "        \n",
        "        L=1 #initialize the L costant, to be sostituted with the right euristic\n",
        "    \n",
        "    g  = gradient(xt, r)\n",
        "    fxt  = objective(xt,r )\n",
        "    o.append(fxt)\n",
        "    st, sti = LMO(g)#linear minimizer oracle\n",
        "    d =  st - xt \n",
        "    gap=- g @ d #computing the gap\n",
        "    gap_list.append(gap)\n",
        "    if gap<= eps: #checking the stopping condition\n",
        "      print('early exit')\n",
        "      algo_end = default_timer()\n",
        "      delta_t = algo_end - algo_start\n",
        "      return [xt, o, gap_list, i]\n",
        "    gamma, L = step_function(r, xt, fxt, gap,  d, x0, L)\n",
        "    x0=xt #keeping track of the past value of x for the next iteration\n",
        "    xt += gamma*d #updating x\n",
        "  algo_end = default_timer()\n",
        "  delta_t = algo_end - algo_start\n",
        "  return [xt,  o, gap_list, max_iter]"
      ],
      "metadata": {
        "id": "oOgcc4AsyKbO"
      },
      "execution_count": null,
      "outputs": []
    },
    {
      "cell_type": "code",
      "source": [
        "def FW_PW_correct(objective,  gradient, r,  max_iter = 1000):\n",
        "    eps = 1e-6\n",
        "    #active_set=np.eye(r.shape[1]) # the active set has as vertexes the characteristic vectors\n",
        "    gap_list=[]\n",
        "    \n",
        "    \n",
        "    #xt  = active_set[0, :] #itiliaze x with the fisrt vertex\n",
        "    #for the part of the code concerning the weights see the paper for a more detailed explenations\n",
        "    ind=[0] #list of indexes correspondig to the vertexes that are into set1 (see below)\n",
        "    #weights = np.zeros(r.shape[1]) #we have a weight for each vertex of the active set\n",
        "    #we also have another set (set1 corresponding to S in the paper) where there \n",
        "    #are all the vertexes that can be chosen to compute the away direction\n",
        "    xt=np.zeros(r.shape[1])\n",
        "    xt[ind]=1\n",
        "    #weights[ind] = 1 #we set the weights corresponding to the vertexes that are in set1 equal to one, the rest is equal to zero\n",
        "    \n",
        "    o=[] \n",
        "    algo_start = default_timer()\n",
        "    for i in range(max_iter):\n",
        "        \n",
        "        #set1=active_set[ind,:] #create the set1 where there are all the vertexes with the corresponding weights different from 0\n",
        "        g  = gradient(xt, r)\n",
        "        fxt  = objective(xt,r )\n",
        "        o.append(fxt)\n",
        "        st, sti = LMO( g) #linear minimizer oracle\n",
        "        vti = np.argmax(g[ind])\n",
        "        \n",
        "\n",
        "        vti=ind[vti] #trick, since vti will correspond to the index in set1, that is smaller than active set \n",
        "        #I retrive the corresponding index in the active set\n",
        "        vt=np.zeros(xt.shape[0]) #away vertex\n",
        "        vt[vti]=1\n",
        "        dt = st - vt #pairwise direction\n",
        "        gfw =  - g @ dt #gap\n",
        "        gap_list.append(gfw)\n",
        "        if gfw <= eps: #stopping condition\n",
        "          print('early exit')\n",
        "          algo_end = default_timer()\n",
        "          delta_t = algo_end - algo_start\n",
        "          return [xt, o, gap_list, i]\n",
        "         \n",
        "        gamma_max = xt[vti] #gamma max equal to the weight corresponding to the away vertex\n",
        "        \n",
        "        gamma = arimjo_ls(xt, fxt, gamma_max, gfw, dt, r)\n",
        "        #weights[vti] -= gamma #updating the weights according to the paper\n",
        "        #weights[sti] += gamma\n",
        "         #updating the list of indexes correspondig to the non zero weights\n",
        "        if (abs(xt[vti]) <= 0.0001): #removing weights that are too little\n",
        "            #active_set = np.delete(active_set, vti, 0)\n",
        "            xt[vti]=0\n",
        "        ind=(np.array(list(range(xt.shape[0])))[(xt>0)]).tolist()\n",
        "        \n",
        "        \n",
        "        \n",
        "        xt += gamma*dt\n",
        "    algo_end = default_timer()\n",
        "    delta_t = algo_end - algo_start\n",
        "    return [xt,  o, gap_list, max_iter]"
      ],
      "metadata": {
        "id": "MfkJHtNKUERK"
      },
      "execution_count": null,
      "outputs": []
    },
    {
      "cell_type": "code",
      "source": [
        "def plot_objective_function(values):\n",
        "    fontsize = 20\n",
        "    labelsize = 16\n",
        "    fig, ax = plt.subplots()\n",
        "\n",
        "    for a, s in values.items():\n",
        "        ax.plot(s, marker = 'o', markerfacecolor = 'white', label=a)\n",
        "        leg = ax.legend()\n",
        "    plt.xlabel('Number of iteration')\n",
        "    plt.ylabel('Objective function')\n",
        "    plt.title('Objective function')\n",
        "    plt.grid()"
      ],
      "metadata": {
        "id": "55jJIUaUbux6"
      },
      "execution_count": null,
      "outputs": []
    },
    {
      "cell_type": "code",
      "source": [
        "def plot_gap(values):\n",
        "    fontsize = 20\n",
        "    labelsize = 16\n",
        "    fig, ax = plt.subplots()\n",
        "\n",
        "    for a, s in values.items():\n",
        "        ax.plot(s, marker = 'o', markerfacecolor = 'white', label=a)\n",
        "        leg = ax.legend()\n",
        "    plt.xlabel('Number of iteration')\n",
        "    plt.ylabel('Relative Error')\n",
        "    plt.title('Relative Error')\n",
        "    plt.grid()"
      ],
      "metadata": {
        "id": "nLthrJBjc733"
      },
      "execution_count": null,
      "outputs": []
    },
    {
      "cell_type": "code",
      "source": [
        "def plot_return_matrix(return_matrix, x_lim, assets):\n",
        "    fig, ax = plt.subplots()\n",
        "    \n",
        "    for asset in assets:\n",
        "        ax.plot(return_matrix[:x_lim, asset], marker = 'o', markerfacecolor = 'white')\n",
        "\n",
        "    plt.ylim([0, 1.5])\n",
        "    plt.xlabel('Period 1 .. T')\n",
        "    plt.title(f'First {x_lim} samples for {len(assets)} assets')\n",
        "    plt.ylabel('Return')\n",
        "    plt.legend([f'Asset {n}' for n in assets])\n",
        "    plt.grid()"
      ],
      "metadata": {
        "id": "ngJSNniFTg8k"
      },
      "execution_count": null,
      "outputs": []
    },
    {
      "cell_type": "code",
      "source": [
        "def plot_bar_scores(scores_dict, y_label, title):\n",
        "    fig = plt.figure()\n",
        "    ax = fig.add_axes([0,0,1,1])\n",
        "    ax.set_ylabel(y_label, fontsize = 18)\n",
        "    ax.set_title(title, fontsize = 18)\n",
        "\n",
        "    x_vals = scores_dict.keys()\n",
        "    y_vals = scores_dict.values()\n",
        "    \n",
        "    ax.bar(x_vals, y_vals, width = 0.4)\n",
        "    ax.tick_params(labelsize = 16)\n",
        "    plt.grid()\n",
        "    plt.show()"
      ],
      "metadata": {
        "id": "GUb7sW1YiIfH"
      },
      "execution_count": null,
      "outputs": []
    },
    {
      "cell_type": "code",
      "source": [
        "type(None)==type(None)"
      ],
      "metadata": {
        "colab": {
          "base_uri": "https://localhost:8080/"
        },
        "id": "tTYjdDqBVbFM",
        "outputId": "59171dda-7a8d-4bce-a1e1-dcc632602468"
      },
      "execution_count": null,
      "outputs": [
        {
          "output_type": "execute_result",
          "data": {
            "text/plain": [
              "True"
            ]
          },
          "metadata": {},
          "execution_count": 147
        }
      ]
    },
    {
      "cell_type": "code",
      "source": [
        "def run_experiment(n_assets, n_periods, max_iterations, fun, return_matrix=None):\n",
        "    mean = 0  # like in paper\n",
        "    var = 0.1  # like in paper\n",
        "    np.random.seed(43)\n",
        "    i={}\n",
        "    o={}\n",
        "    g={}\n",
        "    t={}\n",
        "    n_iterations = {}\n",
        "    # Create return matrix as in the paper\n",
        "    # (N periods) x (N assets) matrix\n",
        "    if type(return_matrix)==type(None):\n",
        "      return_matrix = np.ones((n_periods, n_assets)) + np.random.normal(loc = mean, scale = var, size = (n_periods, n_assets))\n",
        "      assert(return_matrix.shape == (n_periods, n_assets))\n",
        "      assert(len(return_matrix[:, 0]) == n_periods)\n",
        "      assert(len(return_matrix[0, :]) == n_assets)\n",
        "\n",
        "    plot_return_matrix(return_matrix, x_lim = 100, assets = [0, 1, 2])\n",
        "\n",
        "    for f in fun:\n",
        "      start=time.time()\n",
        "      investment_distribution, objective_func, gap, n_iters = f(objective,  gradient, return_matrix,  max_iter = max_iterations)\n",
        "      stop=time.time()\n",
        "      \n",
        "      i[f'{f.__name__}']=investment_distribution\n",
        "      o[f'{f.__name__}']=objective_func\n",
        "      g[f'{f.__name__}']=gap\n",
        "      t[f'{f.__name__}']=[stop-start]\n",
        "      n_iterations[f'{f.__name__}'] = n_iters\n",
        "\n",
        "      if investment_distribution.sum()>=0.999:\n",
        "        print(f'{f.__name__}', ' has done a correct execution')\n",
        "\n",
        "    plot_objective_function(o)\n",
        "    plot_gap(g)\n",
        "    \n",
        "    plot_bar_scores(\n",
        "        n_iterations, \n",
        "        'Number of iterations', \n",
        "        'Iterations of algorithms'\n",
        "    )\n",
        "\n",
        "    plot_bar_scores(\n",
        "        {k: v[0] for k, v in t.items()}, \n",
        "        'CPU time, sec', \n",
        "        'Computational time of algorithms'\n",
        "    )\n",
        "\n",
        "    invest_distributions = np.array([v for v in i.values()])\n",
        "    sns.heatmap(invest_distributions)\n",
        "\n",
        "    display('Time to execution', pd.DataFrame(t))\n",
        "    return i, o, g, t, n_iterations"
      ],
      "metadata": {
        "id": "eN3Rk5ZkY3Wz"
      },
      "execution_count": null,
      "outputs": []
    },
    {
      "cell_type": "code",
      "source": [
        "\n",
        "investments, objective_func, g, t, it = run_experiment(1200, 1000, 20, [frank_wolfe, variant2, FW_PW_correct])\n"
      ],
      "metadata": {
        "colab": {
          "base_uri": "https://localhost:8080/",
          "height": 1000
        },
        "id": "CLFe7zgeXsKw",
        "outputId": "40187271-0cf0-4508-e3dc-4010ec1ca3b2"
      },
      "execution_count": null,
      "outputs": [
        {
          "output_type": "stream",
          "name": "stdout",
          "text": [
            "frank_wolfe  has done a correct execution\n",
            "variant2  has done a correct execution\n",
            "FW_PW_correct  has done a correct execution\n"
          ]
        },
        {
          "output_type": "display_data",
          "data": {
            "text/plain": [
              "<Figure size 432x288 with 1 Axes>"
            ],
            "image/png": "[encoded data removed]"
          },
          "metadata": {
            "needs_background": "light"
          }
        },
        {
          "output_type": "display_data",
          "data": {
            "text/plain": [
              "<Figure size 432x288 with 1 Axes>"
            ],
            "image/png": "[encoded data removed]"
          },
          "metadata": {
            "needs_background": "light"
          }
        },
        {
          "output_type": "display_data",
          "data": {
            "text/plain": [
              "<Figure size 432x288 with 1 Axes>"
            ],
            "image/png": "[encoded data removed]"
          },
          "metadata": {
            "needs_background": "light"
          }
        },
        {
          "output_type": "display_data",
          "data": {
            "text/plain": [
              "<Figure size 432x288 with 1 Axes>"
            ],
            "image/png": "[encoded data removed]"
          },
          "metadata": {
            "needs_background": "light"
          }
        },
        {
          "output_type": "display_data",
          "data": {
            "text/plain": [
              "<Figure size 432x288 with 1 Axes>"
            ],
            "image/png": "[encoded data removed]"
          },
          "metadata": {
            "needs_background": "light"
          }
        },
        {
          "output_type": "display_data",
          "data": {
            "text/plain": [
              "'Time to execution'"
            ],
            "application/vnd.google.colaboratory.intrinsic+json": {
              "type": "string"
            }
          },
          "metadata": {}
        },
        {
          "output_type": "display_data",
          "data": {
            "text/plain": [
              "   frank_wolfe  variant2  FW_PW_correct\n",
              "0     0.124781  0.170297       0.201252"
            ],
            "text/html": [
              "\n",
              "  <div id=\"df-55f26390-5fd1-466c-9770-e0a3e80da8fc\">\n",
              "    <div class=\"colab-df-container\">\n",
              "      <div>\n",
              "<style scoped>\n",
              "    .dataframe tbody tr th:only-of-type {\n",
              "        vertical-align: middle;\n",
              "    }\n",
              "\n",
              "    .dataframe tbody tr th {\n",
              "        vertical-align: top;\n",
              "    }\n",
              "\n",
              "    .dataframe thead th {\n",
              "        text-align: right;\n",
              "    }\n",
              "</style>\n",
              "<table border=\"1\" class=\"dataframe\">\n",
              "  <thead>\n",
              "    <tr style=\"text-align: right;\">\n",
              "      <th></th>\n",
              "      <th>frank_wolfe</th>\n",
              "      <th>variant2</th>\n",
              "      <th>FW_PW_correct</th>\n",
              "    </tr>\n",
              "  </thead>\n",
              "  <tbody>\n",
              "    <tr>\n",
              "      <th>0</th>\n",
              "      <td>0.124781</td>\n",
              "      <td>0.170297</td>\n",
              "      <td>0.201252</td>\n",
              "    </tr>\n",
              "  </tbody>\n",
              "</table>\n",
              "</div>\n",
              "      <button class=\"colab-df-convert\" onclick=\"convertToInteractive('df-55f26390-5fd1-466c-9770-e0a3e80da8fc')\"\n",
              "              title=\"Convert this dataframe to an interactive table.\"\n",
              "              style=\"display:none;\">\n",
              "        \n",
              "  <svg xmlns=\"http://www.w3.org/2000/svg\" height=\"24px\"viewBox=\"0 0 24 24\"\n",
              "       width=\"24px\">\n",
              "    <path d=\"M0 0h24v24H0V0z\" fill=\"none\"/>\n",
              "    <path d=\"M18.56 5.44l.94 2.06.94-2.06 2.06-.94-2.06-.94-.94-2.06-.94 2.06-2.06.94zm-11 1L8.5 8.5l.94-2.06 2.06-.94-2.06-.94L8.5 2.5l-.94 2.06-2.06.94zm10 10l.94 2.06.94-2.06 2.06-.94-2.06-.94-.94-2.06-.94 2.06-2.06.94z\"/><path d=\"M17.41 7.96l-1.37-1.37c-.4-.4-.92-.59-1.43-.59-.52 0-1.04.2-1.43.59L10.3 9.45l-7.72 7.72c-.78.78-.78 2.05 0 2.83L4 21.41c.39.39.9.59 1.41.59.51 0 1.02-.2 1.41-.59l7.78-7.78 2.81-2.81c.8-.78.8-2.07 0-2.86zM5.41 20L4 18.59l7.72-7.72 1.47 1.35L5.41 20z\"/>\n",
              "  </svg>\n",
              "      </button>\n",
              "      \n",
              "  <style>\n",
              "    .colab-df-container {\n",
              "      display:flex;\n",
              "      flex-wrap:wrap;\n",
              "      gap: 12px;\n",
              "    }\n",
              "\n",
              "    .colab-df-convert {\n",
              "      background-color: #E8F0FE;\n",
              "      border: none;\n",
              "      border-radius: 50%;\n",
              "      cursor: pointer;\n",
              "      display: none;\n",
              "      fill: #1967D2;\n",
              "      height: 32px;\n",
              "      padding: 0 0 0 0;\n",
              "      width: 32px;\n",
              "    }\n",
              "\n",
              "    .colab-df-convert:hover {\n",
              "      background-color: #E2EBFA;\n",
              "      box-shadow: 0px 1px 2px rgba(60, 64, 67, 0.3), 0px 1px 3px 1px rgba(60, 64, 67, 0.15);\n",
              "      fill: #174EA6;\n",
              "    }\n",
              "\n",
              "    [theme=dark] .colab-df-convert {\n",
              "      background-color: #3B4455;\n",
              "      fill: #D2E3FC;\n",
              "    }\n",
              "\n",
              "    [theme=dark] .colab-df-convert:hover {\n",
              "      background-color: #434B5C;\n",
              "      box-shadow: 0px 1px 3px 1px rgba(0, 0, 0, 0.15);\n",
              "      filter: drop-shadow(0px 1px 2px rgba(0, 0, 0, 0.3));\n",
              "      fill: #FFFFFF;\n",
              "    }\n",
              "  </style>\n",
              "\n",
              "      <script>\n",
              "        const buttonEl =\n",
              "          document.querySelector('#df-55f26390-5fd1-466c-9770-e0a3e80da8fc button.colab-df-convert');\n",
              "        buttonEl.style.display =\n",
              "          google.colab.kernel.accessAllowed ? 'block' : 'none';\n",
              "\n",
              "        async function convertToInteractive(key) {\n",
              "          const element = document.querySelector('#df-55f26390-5fd1-466c-9770-e0a3e80da8fc');\n",
              "          const dataTable =\n",
              "            await google.colab.kernel.invokeFunction('convertToInteractive',\n",
              "                                                     [key], {});\n",
              "          if (!dataTable) return;\n",
              "\n",
              "          const docLinkHtml = 'Like what you see? Visit the ' +\n",
              "            '<a target=\"_blank\" href=https://colab.research.google.com/notebooks/data_table.ipynb>data table notebook</a>'\n",
              "            + ' to learn more about interactive tables.';\n",
              "          element.innerHTML = '';\n",
              "          dataTable['output_type'] = 'display_data';\n",
              "          await google.colab.output.renderOutput(dataTable, element);\n",
              "          const docLink = document.createElement('div');\n",
              "          docLink.innerHTML = docLinkHtml;\n",
              "          element.appendChild(docLink);\n",
              "        }\n",
              "      </script>\n",
              "    </div>\n",
              "  </div>\n",
              "  "
            ]
          },
          "metadata": {}
        },
        {
          "output_type": "display_data",
          "data": {
            "text/plain": [
              "<Figure size 432x288 with 2 Axes>"
            ],
            "image/png": "[encoded data removed]"
          },
          "metadata": {
            "needs_background": "light"
          }
        }
      ]
    },
    {
      "cell_type": "code",
      "source": [
        "ticker_details = pd.read_csv('/content/nasdaq_screener.csv')"
      ],
      "metadata": {
        "id": "hPHEsZ0uiVe_"
      },
      "execution_count": null,
      "outputs": []
    },
    {
      "cell_type": "code",
      "source": [
        "ticker = ticker_details['Symbol'].to_list()\n",
        "names = ticker_details['Symbol'].to_list()"
      ],
      "metadata": {
        "id": "vv3GBJl5jkmz"
      },
      "execution_count": null,
      "outputs": []
    },
    {
      "cell_type": "code",
      "source": [
        "#Extracting Data from Yahoo Finance and Adding them to Values table using date as key\n",
        "end_date= \"2022-03-09\"\n",
        "start_date = \"2020-01-01\"\n",
        "date_range = pd.bdate_range(start=start_date,end=end_date)\n",
        "values = pd.DataFrame({ 'Date': date_range})\n",
        "values['Date']= pd.to_datetime(values['Date'])"
      ],
      "metadata": {
        "id": "zshEvV56jm0x"
      },
      "execution_count": null,
      "outputs": []
    },
    {
      "cell_type": "code",
      "source": [
        "#Extracting Data from Yahoo Finance and Adding them to Values table using date as key\n",
        "for i in ticker:\n",
        "    if 'Common' not in ticker_details[ticker_details['Symbol']==i]['Name'].to_string():\n",
        "      continue\n",
        "    raw_data = YahooFinancials(i)\n",
        "    raw_data = raw_data.get_historical_price_data(start_date, end_date, \"daily\")\n",
        "    \n",
        "    if 'prices' not in raw_data[i].keys():\n",
        "      continue\n",
        "    if raw_data[i]['prices']==[]:\n",
        "      continue\n",
        "    df = pd.DataFrame(raw_data[i]['prices'])[['formatted_date','adjclose']]\n",
        "    \n",
        "    df.columns = ['Date1',i]\n",
        "    df['Date1']= pd.to_datetime(df['Date1'])\n",
        "    values = values.merge(df,how='left',left_on='Date',right_on='Date1')\n",
        "    values = values.drop(labels='Date1',axis=1)\n",
        "\n"
      ],
      "metadata": {
        "id": "pBuAM6tkjqsG"
      },
      "execution_count": null,
      "outputs": []
    },
    {
      "cell_type": "code",
      "source": [
        "names.insert(0,'Date')\n",
        "#values.columns = names\n",
        "print(values.shape)\n",
        "print(values.isna().sum())\n",
        "values.tail()"
      ],
      "metadata": {
        "colab": {
          "base_uri": "https://localhost:8080/",
          "height": 591
        },
        "id": "snGCZnHes5w3",
        "outputId": "9f158ecf-1735-4ddf-b777-fed53b7a4860"
      },
      "execution_count": null,
      "outputs": [
        {
          "output_type": "stream",
          "name": "stdout",
          "text": [
            "(571, 2938)\n",
            "Date        0\n",
            "AACG       21\n",
            "AACI_x    490\n",
            "AACIU     428\n",
            "AADI_x     21\n",
            "         ... \n",
            "ZVO        21\n",
            "ZWRK      336\n",
            "ZY        349\n",
            "ZYNE       21\n",
            "ZYXI       21\n",
            "Length: 2938, dtype: int64\n"
          ]
        },
        {
          "output_type": "execute_result",
          "data": {
            "text/plain": [
              "          Date  AACG  AACI_x  AACIU     AADI_x  AAL_x    AAME_x  AAOI_x  \\\n",
              "566 2022-03-03  1.24    9.81   9.84  16.980000  15.71  2.506154    3.60   \n",
              "567 2022-03-04  1.21    9.81   9.84  16.930000  14.59  2.406703    3.41   \n",
              "568 2022-03-07  1.20    9.82   9.84  17.059999  12.84  2.327143    3.56   \n",
              "569 2022-03-08  1.24    9.83   9.84  17.860001  13.51  2.207802    3.73   \n",
              "570 2022-03-09   NaN     NaN    NaN        NaN    NaN       NaN     NaN   \n",
              "\n",
              "        AAON_x      AAPL_x  ...       ZNTL          ZS   ZSAN  ZTEK  \\\n",
              "566  53.821220  165.986115  ...  47.259998  242.029999  6.335  2.73   \n",
              "567  54.130138  162.930603  ...  45.570000  225.500000  5.845  2.57   \n",
              "568  54.100246  159.066299  ...  44.810001  204.369995  5.495  2.59   \n",
              "569  53.382759  157.209015  ...  44.000000  198.630005  5.425  2.18   \n",
              "570        NaN         NaN  ...        NaN         NaN    NaN   NaN   \n",
              "\n",
              "          ZUMZ    ZVO  ZWRK    ZY  ZYNE  ZYXI  \n",
              "566  46.009998  1.090  9.76  3.44  1.96  5.66  \n",
              "567  44.500000  1.015  9.76  3.23  1.90  5.28  \n",
              "568  41.060001  1.050  9.75  3.21  1.92  5.57  \n",
              "569  43.040001  1.070  9.76  3.37  1.96  5.85  \n",
              "570        NaN    NaN   NaN   NaN   NaN   NaN  \n",
              "\n",
              "[5 rows x 2938 columns]"
            ],
            "text/html": [
              "\n",
              "  <div id=\"df-3e914c92-6754-47a4-af8b-f18485b7c3b4\">\n",
              "    <div class=\"colab-df-container\">\n",
              "      <div>\n",
              "<style scoped>\n",
              "    .dataframe tbody tr th:only-of-type {\n",
              "        vertical-align: middle;\n",
              "    }\n",
              "\n",
              "    .dataframe tbody tr th {\n",
              "        vertical-align: top;\n",
              "    }\n",
              "\n",
              "    .dataframe thead th {\n",
              "        text-align: right;\n",
              "    }\n",
              "</style>\n",
              "<table border=\"1\" class=\"dataframe\">\n",
              "  <thead>\n",
              "    <tr style=\"text-align: right;\">\n",
              "      <th></th>\n",
              "      <th>Date</th>\n",
              "      <th>AACG</th>\n",
              "      <th>AACI_x</th>\n",
              "      <th>AACIU</th>\n",
              "      <th>AADI_x</th>\n",
              "      <th>AAL_x</th>\n",
              "      <th>AAME_x</th>\n",
              "      <th>AAOI_x</th>\n",
              "      <th>AAON_x</th>\n",
              "      <th>AAPL_x</th>\n",
              "      <th>...</th>\n",
              "      <th>ZNTL</th>\n",
              "      <th>ZS</th>\n",
              "      <th>ZSAN</th>\n",
              "      <th>ZTEK</th>\n",
              "      <th>ZUMZ</th>\n",
              "      <th>ZVO</th>\n",
              "      <th>ZWRK</th>\n",
              "      <th>ZY</th>\n",
              "      <th>ZYNE</th>\n",
              "      <th>ZYXI</th>\n",
              "    </tr>\n",
              "  </thead>\n",
              "  <tbody>\n",
              "    <tr>\n",
              "      <th>566</th>\n",
              "      <td>2022-03-03</td>\n",
              "      <td>1.24</td>\n",
              "      <td>9.81</td>\n",
              "      <td>9.84</td>\n",
              "      <td>16.980000</td>\n",
              "      <td>15.71</td>\n",
              "      <td>2.506154</td>\n",
              "      <td>3.60</td>\n",
              "      <td>53.821220</td>\n",
              "      <td>165.986115</td>\n",
              "      <td>...</td>\n",
              "      <td>47.259998</td>\n",
              "      <td>242.029999</td>\n",
              "      <td>6.335</td>\n",
              "      <td>2.73</td>\n",
              "      <td>46.009998</td>\n",
              "      <td>1.090</td>\n",
              "      <td>9.76</td>\n",
              "      <td>3.44</td>\n",
              "      <td>1.96</td>\n",
              "      <td>5.66</td>\n",
              "    </tr>\n",
              "    <tr>\n",
              "      <th>567</th>\n",
              "      <td>2022-03-04</td>\n",
              "      <td>1.21</td>\n",
              "      <td>9.81</td>\n",
              "      <td>9.84</td>\n",
              "      <td>16.930000</td>\n",
              "      <td>14.59</td>\n",
              "      <td>2.406703</td>\n",
              "      <td>3.41</td>\n",
              "      <td>54.130138</td>\n",
              "      <td>162.930603</td>\n",
              "      <td>...</td>\n",
              "      <td>45.570000</td>\n",
              "      <td>225.500000</td>\n",
              "      <td>5.845</td>\n",
              "      <td>2.57</td>\n",
              "      <td>44.500000</td>\n",
              "      <td>1.015</td>\n",
              "      <td>9.76</td>\n",
              "      <td>3.23</td>\n",
              "      <td>1.90</td>\n",
              "      <td>5.28</td>\n",
              "    </tr>\n",
              "    <tr>\n",
              "      <th>568</th>\n",
              "      <td>2022-03-07</td>\n",
              "      <td>1.20</td>\n",
              "      <td>9.82</td>\n",
              "      <td>9.84</td>\n",
              "      <td>17.059999</td>\n",
              "      <td>12.84</td>\n",
              "      <td>2.327143</td>\n",
              "      <td>3.56</td>\n",
              "      <td>54.100246</td>\n",
              "      <td>159.066299</td>\n",
              "      <td>...</td>\n",
              "      <td>44.810001</td>\n",
              "      <td>204.369995</td>\n",
              "      <td>5.495</td>\n",
              "      <td>2.59</td>\n",
              "      <td>41.060001</td>\n",
              "      <td>1.050</td>\n",
              "      <td>9.75</td>\n",
              "      <td>3.21</td>\n",
              "      <td>1.92</td>\n",
              "      <td>5.57</td>\n",
              "    </tr>\n",
              "    <tr>\n",
              "      <th>569</th>\n",
              "      <td>2022-03-08</td>\n",
              "      <td>1.24</td>\n",
              "      <td>9.83</td>\n",
              "      <td>9.84</td>\n",
              "      <td>17.860001</td>\n",
              "      <td>13.51</td>\n",
              "      <td>2.207802</td>\n",
              "      <td>3.73</td>\n",
              "      <td>53.382759</td>\n",
              "      <td>157.209015</td>\n",
              "      <td>...</td>\n",
              "      <td>44.000000</td>\n",
              "      <td>198.630005</td>\n",
              "      <td>5.425</td>\n",
              "      <td>2.18</td>\n",
              "      <td>43.040001</td>\n",
              "      <td>1.070</td>\n",
              "      <td>9.76</td>\n",
              "      <td>3.37</td>\n",
              "      <td>1.96</td>\n",
              "      <td>5.85</td>\n",
              "    </tr>\n",
              "    <tr>\n",
              "      <th>570</th>\n",
              "      <td>2022-03-09</td>\n",
              "      <td>NaN</td>\n",
              "      <td>NaN</td>\n",
              "      <td>NaN</td>\n",
              "      <td>NaN</td>\n",
              "      <td>NaN</td>\n",
              "      <td>NaN</td>\n",
              "      <td>NaN</td>\n",
              "      <td>NaN</td>\n",
              "      <td>NaN</td>\n",
              "      <td>...</td>\n",
              "      <td>NaN</td>\n",
              "      <td>NaN</td>\n",
              "      <td>NaN</td>\n",
              "      <td>NaN</td>\n",
              "      <td>NaN</td>\n",
              "      <td>NaN</td>\n",
              "      <td>NaN</td>\n",
              "      <td>NaN</td>\n",
              "      <td>NaN</td>\n",
              "      <td>NaN</td>\n",
              "    </tr>\n",
              "  </tbody>\n",
              "</table>\n",
              "<p>5 rows × 2938 columns</p>\n",
              "</div>\n",
              "      <button class=\"colab-df-convert\" onclick=\"convertToInteractive('df-3e914c92-6754-47a4-af8b-f18485b7c3b4')\"\n",
              "              title=\"Convert this dataframe to an interactive table.\"\n",
              "              style=\"display:none;\">\n",
              "        \n",
              "  <svg xmlns=\"http://www.w3.org/2000/svg\" height=\"24px\"viewBox=\"0 0 24 24\"\n",
              "       width=\"24px\">\n",
              "    <path d=\"M0 0h24v24H0V0z\" fill=\"none\"/>\n",
              "    <path d=\"M18.56 5.44l.94 2.06.94-2.06 2.06-.94-2.06-.94-.94-2.06-.94 2.06-2.06.94zm-11 1L8.5 8.5l.94-2.06 2.06-.94-2.06-.94L8.5 2.5l-.94 2.06-2.06.94zm10 10l.94 2.06.94-2.06 2.06-.94-2.06-.94-.94-2.06-.94 2.06-2.06.94z\"/><path d=\"M17.41 7.96l-1.37-1.37c-.4-.4-.92-.59-1.43-.59-.52 0-1.04.2-1.43.59L10.3 9.45l-7.72 7.72c-.78.78-.78 2.05 0 2.83L4 21.41c.39.39.9.59 1.41.59.51 0 1.02-.2 1.41-.59l7.78-7.78 2.81-2.81c.8-.78.8-2.07 0-2.86zM5.41 20L4 18.59l7.72-7.72 1.47 1.35L5.41 20z\"/>\n",
              "  </svg>\n",
              "      </button>\n",
              "      \n",
              "  <style>\n",
              "    .colab-df-container {\n",
              "      display:flex;\n",
              "      flex-wrap:wrap;\n",
              "      gap: 12px;\n",
              "    }\n",
              "\n",
              "    .colab-df-convert {\n",
              "      background-color: #E8F0FE;\n",
              "      border: none;\n",
              "      border-radius: 50%;\n",
              "      cursor: pointer;\n",
              "      display: none;\n",
              "      fill: #1967D2;\n",
              "      height: 32px;\n",
              "      padding: 0 0 0 0;\n",
              "      width: 32px;\n",
              "    }\n",
              "\n",
              "    .colab-df-convert:hover {\n",
              "      background-color: #E2EBFA;\n",
              "      box-shadow: 0px 1px 2px rgba(60, 64, 67, 0.3), 0px 1px 3px 1px rgba(60, 64, 67, 0.15);\n",
              "      fill: #174EA6;\n",
              "    }\n",
              "\n",
              "    [theme=dark] .colab-df-convert {\n",
              "      background-color: #3B4455;\n",
              "      fill: #D2E3FC;\n",
              "    }\n",
              "\n",
              "    [theme=dark] .colab-df-convert:hover {\n",
              "      background-color: #434B5C;\n",
              "      box-shadow: 0px 1px 3px 1px rgba(0, 0, 0, 0.15);\n",
              "      filter: drop-shadow(0px 1px 2px rgba(0, 0, 0, 0.3));\n",
              "      fill: #FFFFFF;\n",
              "    }\n",
              "  </style>\n",
              "\n",
              "      <script>\n",
              "        const buttonEl =\n",
              "          document.querySelector('#df-3e914c92-6754-47a4-af8b-f18485b7c3b4 button.colab-df-convert');\n",
              "        buttonEl.style.display =\n",
              "          google.colab.kernel.accessAllowed ? 'block' : 'none';\n",
              "\n",
              "        async function convertToInteractive(key) {\n",
              "          const element = document.querySelector('#df-3e914c92-6754-47a4-af8b-f18485b7c3b4');\n",
              "          const dataTable =\n",
              "            await google.colab.kernel.invokeFunction('convertToInteractive',\n",
              "                                                     [key], {});\n",
              "          if (!dataTable) return;\n",
              "\n",
              "          const docLinkHtml = 'Like what you see? Visit the ' +\n",
              "            '<a target=\"_blank\" href=https://colab.research.google.com/notebooks/data_table.ipynb>data table notebook</a>'\n",
              "            + ' to learn more about interactive tables.';\n",
              "          element.innerHTML = '';\n",
              "          dataTable['output_type'] = 'display_data';\n",
              "          await google.colab.output.renderOutput(dataTable, element);\n",
              "          const docLink = document.createElement('div');\n",
              "          docLink.innerHTML = docLinkHtml;\n",
              "          element.appendChild(docLink);\n",
              "        }\n",
              "      </script>\n",
              "    </div>\n",
              "  </div>\n",
              "  "
            ]
          },
          "metadata": {},
          "execution_count": 48
        }
      ]
    },
    {
      "cell_type": "code",
      "source": [
        "values.to_csv('dataset_for_o4ds')"
      ],
      "metadata": {
        "id": "k2UTbNPb_uZF"
      },
      "execution_count": null,
      "outputs": []
    },
    {
      "cell_type": "code",
      "source": [
        "values=pd.read_csv('/content/dataset_for_o4ds')"
      ],
      "metadata": {
        "id": "ZN54PBqfGYD8"
      },
      "execution_count": null,
      "outputs": []
    },
    {
      "cell_type": "code",
      "source": [
        "values.head()"
      ],
      "metadata": {
        "colab": {
          "base_uri": "https://localhost:8080/",
          "height": 310
        },
        "id": "CD8pEWvjGd9l",
        "outputId": "92c89d0d-c137-4020-df58-7fc33a93da08"
      },
      "execution_count": null,
      "outputs": [
        {
          "output_type": "execute_result",
          "data": {
            "text/plain": [
              "   Unnamed: 0  AACG  AADI_x      AAL_x    AAME_x  AAOI_x     AAON_x  \\\n",
              "0           1  1.35   9.600  28.982893  1.968785   12.50  49.139999   \n",
              "1           2  1.47   9.600  27.548195  2.018252   12.12  49.593082   \n",
              "2           3  1.43   9.720  27.219410  1.840171   12.15  49.504436   \n",
              "3           4  1.43   9.945  27.119778  1.780811   12.43  49.396095   \n",
              "4           5  1.51   9.255  27.737495  1.879745   12.70  49.258198   \n",
              "\n",
              "      AAPL_x    AATC_x     AAWW_x  ...       ZION  ZIVO         ZM         ZS  \\\n",
              "0  73.785919  4.233618  27.730000  ...  48.681541  0.16  68.720001  47.330002   \n",
              "1  73.068558  4.270353  27.450001  ...  47.994579  0.16  67.279999  47.380001   \n",
              "2  73.650787  4.187700  27.430000  ...  47.409729  0.16  70.320000  48.700001   \n",
              "3  73.304413  4.251986  26.370001  ...  47.121948  0.16  71.900002  48.400002   \n",
              "4  74.483597  4.297903  27.160000  ...  47.586113  0.16  72.550003  50.750000   \n",
              "\n",
              "        ZSAN  ZTEK       ZUMZ   ZVO  ZYNE      ZYXI  \n",
              "0  53.200001  0.27  34.090000  2.06  5.88  7.121037  \n",
              "1  54.250000  0.27  33.830002  2.05  5.81  7.507659  \n",
              "2  57.400002  0.28  34.410000  2.07  5.70  7.570597  \n",
              "3  59.849998  0.27  34.180000  2.01  5.56  7.678492  \n",
              "4  56.700001  0.27  34.480000  1.91  5.31  7.615553  \n",
              "\n",
              "[5 rows x 2215 columns]"
            ],
            "text/html": [
              "\n",
              "  <div id=\"df-b01eb406-60de-4300-b74b-e73d90f6eaa1\">\n",
              "    <div class=\"colab-df-container\">\n",
              "      <div>\n",
              "<style scoped>\n",
              "    .dataframe tbody tr th:only-of-type {\n",
              "        vertical-align: middle;\n",
              "    }\n",
              "\n",
              "    .dataframe tbody tr th {\n",
              "        vertical-align: top;\n",
              "    }\n",
              "\n",
              "    .dataframe thead th {\n",
              "        text-align: right;\n",
              "    }\n",
              "</style>\n",
              "<table border=\"1\" class=\"dataframe\">\n",
              "  <thead>\n",
              "    <tr style=\"text-align: right;\">\n",
              "      <th></th>\n",
              "      <th>Unnamed: 0</th>\n",
              "      <th>AACG</th>\n",
              "      <th>AADI_x</th>\n",
              "      <th>AAL_x</th>\n",
              "      <th>AAME_x</th>\n",
              "      <th>AAOI_x</th>\n",
              "      <th>AAON_x</th>\n",
              "      <th>AAPL_x</th>\n",
              "      <th>AATC_x</th>\n",
              "      <th>AAWW_x</th>\n",
              "      <th>...</th>\n",
              "      <th>ZION</th>\n",
              "      <th>ZIVO</th>\n",
              "      <th>ZM</th>\n",
              "      <th>ZS</th>\n",
              "      <th>ZSAN</th>\n",
              "      <th>ZTEK</th>\n",
              "      <th>ZUMZ</th>\n",
              "      <th>ZVO</th>\n",
              "      <th>ZYNE</th>\n",
              "      <th>ZYXI</th>\n",
              "    </tr>\n",
              "  </thead>\n",
              "  <tbody>\n",
              "    <tr>\n",
              "      <th>0</th>\n",
              "      <td>1</td>\n",
              "      <td>1.35</td>\n",
              "      <td>9.600</td>\n",
              "      <td>28.982893</td>\n",
              "      <td>1.968785</td>\n",
              "      <td>12.50</td>\n",
              "      <td>49.139999</td>\n",
              "      <td>73.785919</td>\n",
              "      <td>4.233618</td>\n",
              "      <td>27.730000</td>\n",
              "      <td>...</td>\n",
              "      <td>48.681541</td>\n",
              "      <td>0.16</td>\n",
              "      <td>68.720001</td>\n",
              "      <td>47.330002</td>\n",
              "      <td>53.200001</td>\n",
              "      <td>0.27</td>\n",
              "      <td>34.090000</td>\n",
              "      <td>2.06</td>\n",
              "      <td>5.88</td>\n",
              "      <td>7.121037</td>\n",
              "    </tr>\n",
              "    <tr>\n",
              "      <th>1</th>\n",
              "      <td>2</td>\n",
              "      <td>1.47</td>\n",
              "      <td>9.600</td>\n",
              "      <td>27.548195</td>\n",
              "      <td>2.018252</td>\n",
              "      <td>12.12</td>\n",
              "      <td>49.593082</td>\n",
              "      <td>73.068558</td>\n",
              "      <td>4.270353</td>\n",
              "      <td>27.450001</td>\n",
              "      <td>...</td>\n",
              "      <td>47.994579</td>\n",
              "      <td>0.16</td>\n",
              "      <td>67.279999</td>\n",
              "      <td>47.380001</td>\n",
              "      <td>54.250000</td>\n",
              "      <td>0.27</td>\n",
              "      <td>33.830002</td>\n",
              "      <td>2.05</td>\n",
              "      <td>5.81</td>\n",
              "      <td>7.507659</td>\n",
              "    </tr>\n",
              "    <tr>\n",
              "      <th>2</th>\n",
              "      <td>3</td>\n",
              "      <td>1.43</td>\n",
              "      <td>9.720</td>\n",
              "      <td>27.219410</td>\n",
              "      <td>1.840171</td>\n",
              "      <td>12.15</td>\n",
              "      <td>49.504436</td>\n",
              "      <td>73.650787</td>\n",
              "      <td>4.187700</td>\n",
              "      <td>27.430000</td>\n",
              "      <td>...</td>\n",
              "      <td>47.409729</td>\n",
              "      <td>0.16</td>\n",
              "      <td>70.320000</td>\n",
              "      <td>48.700001</td>\n",
              "      <td>57.400002</td>\n",
              "      <td>0.28</td>\n",
              "      <td>34.410000</td>\n",
              "      <td>2.07</td>\n",
              "      <td>5.70</td>\n",
              "      <td>7.570597</td>\n",
              "    </tr>\n",
              "    <tr>\n",
              "      <th>3</th>\n",
              "      <td>4</td>\n",
              "      <td>1.43</td>\n",
              "      <td>9.945</td>\n",
              "      <td>27.119778</td>\n",
              "      <td>1.780811</td>\n",
              "      <td>12.43</td>\n",
              "      <td>49.396095</td>\n",
              "      <td>73.304413</td>\n",
              "      <td>4.251986</td>\n",
              "      <td>26.370001</td>\n",
              "      <td>...</td>\n",
              "      <td>47.121948</td>\n",
              "      <td>0.16</td>\n",
              "      <td>71.900002</td>\n",
              "      <td>48.400002</td>\n",
              "      <td>59.849998</td>\n",
              "      <td>0.27</td>\n",
              "      <td>34.180000</td>\n",
              "      <td>2.01</td>\n",
              "      <td>5.56</td>\n",
              "      <td>7.678492</td>\n",
              "    </tr>\n",
              "    <tr>\n",
              "      <th>4</th>\n",
              "      <td>5</td>\n",
              "      <td>1.51</td>\n",
              "      <td>9.255</td>\n",
              "      <td>27.737495</td>\n",
              "      <td>1.879745</td>\n",
              "      <td>12.70</td>\n",
              "      <td>49.258198</td>\n",
              "      <td>74.483597</td>\n",
              "      <td>4.297903</td>\n",
              "      <td>27.160000</td>\n",
              "      <td>...</td>\n",
              "      <td>47.586113</td>\n",
              "      <td>0.16</td>\n",
              "      <td>72.550003</td>\n",
              "      <td>50.750000</td>\n",
              "      <td>56.700001</td>\n",
              "      <td>0.27</td>\n",
              "      <td>34.480000</td>\n",
              "      <td>1.91</td>\n",
              "      <td>5.31</td>\n",
              "      <td>7.615553</td>\n",
              "    </tr>\n",
              "  </tbody>\n",
              "</table>\n",
              "<p>5 rows × 2215 columns</p>\n",
              "</div>\n",
              "      <button class=\"colab-df-convert\" onclick=\"convertToInteractive('df-b01eb406-60de-4300-b74b-e73d90f6eaa1')\"\n",
              "              title=\"Convert this dataframe to an interactive table.\"\n",
              "              style=\"display:none;\">\n",
              "        \n",
              "  <svg xmlns=\"http://www.w3.org/2000/svg\" height=\"24px\"viewBox=\"0 0 24 24\"\n",
              "       width=\"24px\">\n",
              "    <path d=\"M0 0h24v24H0V0z\" fill=\"none\"/>\n",
              "    <path d=\"M18.56 5.44l.94 2.06.94-2.06 2.06-.94-2.06-.94-.94-2.06-.94 2.06-2.06.94zm-11 1L8.5 8.5l.94-2.06 2.06-.94-2.06-.94L8.5 2.5l-.94 2.06-2.06.94zm10 10l.94 2.06.94-2.06 2.06-.94-2.06-.94-.94-2.06-.94 2.06-2.06.94z\"/><path d=\"M17.41 7.96l-1.37-1.37c-.4-.4-.92-.59-1.43-.59-.52 0-1.04.2-1.43.59L10.3 9.45l-7.72 7.72c-.78.78-.78 2.05 0 2.83L4 21.41c.39.39.9.59 1.41.59.51 0 1.02-.2 1.41-.59l7.78-7.78 2.81-2.81c.8-.78.8-2.07 0-2.86zM5.41 20L4 18.59l7.72-7.72 1.47 1.35L5.41 20z\"/>\n",
              "  </svg>\n",
              "      </button>\n",
              "      \n",
              "  <style>\n",
              "    .colab-df-container {\n",
              "      display:flex;\n",
              "      flex-wrap:wrap;\n",
              "      gap: 12px;\n",
              "    }\n",
              "\n",
              "    .colab-df-convert {\n",
              "      background-color: #E8F0FE;\n",
              "      border: none;\n",
              "      border-radius: 50%;\n",
              "      cursor: pointer;\n",
              "      display: none;\n",
              "      fill: #1967D2;\n",
              "      height: 32px;\n",
              "      padding: 0 0 0 0;\n",
              "      width: 32px;\n",
              "    }\n",
              "\n",
              "    .colab-df-convert:hover {\n",
              "      background-color: #E2EBFA;\n",
              "      box-shadow: 0px 1px 2px rgba(60, 64, 67, 0.3), 0px 1px 3px 1px rgba(60, 64, 67, 0.15);\n",
              "      fill: #174EA6;\n",
              "    }\n",
              "\n",
              "    [theme=dark] .colab-df-convert {\n",
              "      background-color: #3B4455;\n",
              "      fill: #D2E3FC;\n",
              "    }\n",
              "\n",
              "    [theme=dark] .colab-df-convert:hover {\n",
              "      background-color: #434B5C;\n",
              "      box-shadow: 0px 1px 3px 1px rgba(0, 0, 0, 0.15);\n",
              "      filter: drop-shadow(0px 1px 2px rgba(0, 0, 0, 0.3));\n",
              "      fill: #FFFFFF;\n",
              "    }\n",
              "  </style>\n",
              "\n",
              "      <script>\n",
              "        const buttonEl =\n",
              "          document.querySelector('#df-b01eb406-60de-4300-b74b-e73d90f6eaa1 button.colab-df-convert');\n",
              "        buttonEl.style.display =\n",
              "          google.colab.kernel.accessAllowed ? 'block' : 'none';\n",
              "\n",
              "        async function convertToInteractive(key) {\n",
              "          const element = document.querySelector('#df-b01eb406-60de-4300-b74b-e73d90f6eaa1');\n",
              "          const dataTable =\n",
              "            await google.colab.kernel.invokeFunction('convertToInteractive',\n",
              "                                                     [key], {});\n",
              "          if (!dataTable) return;\n",
              "\n",
              "          const docLinkHtml = 'Like what you see? Visit the ' +\n",
              "            '<a target=\"_blank\" href=https://colab.research.google.com/notebooks/data_table.ipynb>data table notebook</a>'\n",
              "            + ' to learn more about interactive tables.';\n",
              "          element.innerHTML = '';\n",
              "          dataTable['output_type'] = 'display_data';\n",
              "          await google.colab.output.renderOutput(dataTable, element);\n",
              "          const docLink = document.createElement('div');\n",
              "          docLink.innerHTML = docLinkHtml;\n",
              "          element.appendChild(docLink);\n",
              "        }\n",
              "      </script>\n",
              "    </div>\n",
              "  </div>\n",
              "  "
            ]
          },
          "metadata": {},
          "execution_count": 103
        }
      ]
    },
    {
      "cell_type": "code",
      "source": [
        "values=values.drop(['Unnamed: 0'], axis=1)"
      ],
      "metadata": {
        "id": "YjHqmXksGggy"
      },
      "execution_count": null,
      "outputs": []
    },
    {
      "cell_type": "code",
      "source": [
        "np.unique(values.isna().sum(), return_counts=True)"
      ],
      "metadata": {
        "colab": {
          "base_uri": "https://localhost:8080/"
        },
        "id": "E0OhsY8V_2KM",
        "outputId": "31105ff5-518f-40c4-bf32-3423f25bc490"
      },
      "execution_count": null,
      "outputs": [
        {
          "output_type": "execute_result",
          "data": {
            "text/plain": [
              "(array([0]), array([2214]))"
            ]
          },
          "metadata": {},
          "execution_count": 105
        }
      ]
    },
    {
      "cell_type": "code",
      "source": [
        "for i in list(values.columns):\n",
        "  if values[i].isna().sum()!=21:\n",
        "    values=values.drop([i], axis=1)"
      ],
      "metadata": {
        "id": "RWTit5zBBwMs"
      },
      "execution_count": null,
      "outputs": []
    },
    {
      "cell_type": "code",
      "source": [
        "values[values.isna().any(axis=1)].shape"
      ],
      "metadata": {
        "colab": {
          "base_uri": "https://localhost:8080/"
        },
        "id": "MpttbmYtEBWy",
        "outputId": "6ebe4ee1-3295-4394-9066-ee6c8cd36644"
      },
      "execution_count": null,
      "outputs": [
        {
          "output_type": "execute_result",
          "data": {
            "text/plain": [
              "(21, 2214)"
            ]
          },
          "metadata": {},
          "execution_count": 83
        }
      ]
    },
    {
      "cell_type": "code",
      "source": [
        "values=values.dropna(axis=0)"
      ],
      "metadata": {
        "id": "TOr065AiFCOQ"
      },
      "execution_count": null,
      "outputs": []
    },
    {
      "cell_type": "code",
      "source": [
        "values.head()"
      ],
      "metadata": {
        "colab": {
          "base_uri": "https://localhost:8080/",
          "height": 293
        },
        "id": "MRoMqNCwIFT2",
        "outputId": "a720ac70-2b89-43bf-c85d-5ec64a3c9b7c"
      },
      "execution_count": null,
      "outputs": [
        {
          "output_type": "execute_result",
          "data": {
            "text/plain": [
              "   AACG  AADI_x      AAL_x    AAME_x  AAOI_x     AAON_x     AAPL_x    AATC_x  \\\n",
              "0  1.35   9.600  28.982893  1.968785   12.50  49.139999  73.785919  4.233618   \n",
              "1  1.47   9.600  27.548195  2.018252   12.12  49.593082  73.068558  4.270353   \n",
              "2  1.43   9.720  27.219410  1.840171   12.15  49.504436  73.650787  4.187700   \n",
              "3  1.43   9.945  27.119778  1.780811   12.43  49.396095  73.304413  4.251986   \n",
              "4  1.51   9.255  27.737495  1.879745   12.70  49.258198  74.483597  4.297903   \n",
              "\n",
              "      AAWW_x     ABCB_x  ...       ZION  ZIVO         ZM         ZS  \\\n",
              "0  27.730000  41.095348  ...  48.681541  0.16  68.720001  47.330002   \n",
              "1  27.450001  40.931892  ...  47.994579  0.16  67.279999  47.380001   \n",
              "2  27.430000  40.806889  ...  47.409729  0.16  70.320000  48.700001   \n",
              "3  26.370001  40.528053  ...  47.121948  0.16  71.900002  48.400002   \n",
              "4  27.160000  41.008812  ...  47.586113  0.16  72.550003  50.750000   \n",
              "\n",
              "        ZSAN  ZTEK       ZUMZ   ZVO  ZYNE      ZYXI  \n",
              "0  53.200001  0.27  34.090000  2.06  5.88  7.121037  \n",
              "1  54.250000  0.27  33.830002  2.05  5.81  7.507659  \n",
              "2  57.400002  0.28  34.410000  2.07  5.70  7.570597  \n",
              "3  59.849998  0.27  34.180000  2.01  5.56  7.678492  \n",
              "4  56.700001  0.27  34.480000  1.91  5.31  7.615553  \n",
              "\n",
              "[5 rows x 2214 columns]"
            ],
            "text/html": [
              "\n",
              "  <div id=\"df-702c6009-a4e7-4731-8aa0-e39eabd46286\">\n",
              "    <div class=\"colab-df-container\">\n",
              "      <div>\n",
              "<style scoped>\n",
              "    .dataframe tbody tr th:only-of-type {\n",
              "        vertical-align: middle;\n",
              "    }\n",
              "\n",
              "    .dataframe tbody tr th {\n",
              "        vertical-align: top;\n",
              "    }\n",
              "\n",
              "    .dataframe thead th {\n",
              "        text-align: right;\n",
              "    }\n",
              "</style>\n",
              "<table border=\"1\" class=\"dataframe\">\n",
              "  <thead>\n",
              "    <tr style=\"text-align: right;\">\n",
              "      <th></th>\n",
              "      <th>AACG</th>\n",
              "      <th>AADI_x</th>\n",
              "      <th>AAL_x</th>\n",
              "      <th>AAME_x</th>\n",
              "      <th>AAOI_x</th>\n",
              "      <th>AAON_x</th>\n",
              "      <th>AAPL_x</th>\n",
              "      <th>AATC_x</th>\n",
              "      <th>AAWW_x</th>\n",
              "      <th>ABCB_x</th>\n",
              "      <th>...</th>\n",
              "      <th>ZION</th>\n",
              "      <th>ZIVO</th>\n",
              "      <th>ZM</th>\n",
              "      <th>ZS</th>\n",
              "      <th>ZSAN</th>\n",
              "      <th>ZTEK</th>\n",
              "      <th>ZUMZ</th>\n",
              "      <th>ZVO</th>\n",
              "      <th>ZYNE</th>\n",
              "      <th>ZYXI</th>\n",
              "    </tr>\n",
              "  </thead>\n",
              "  <tbody>\n",
              "    <tr>\n",
              "      <th>0</th>\n",
              "      <td>1.35</td>\n",
              "      <td>9.600</td>\n",
              "      <td>28.982893</td>\n",
              "      <td>1.968785</td>\n",
              "      <td>12.50</td>\n",
              "      <td>49.139999</td>\n",
              "      <td>73.785919</td>\n",
              "      <td>4.233618</td>\n",
              "      <td>27.730000</td>\n",
              "      <td>41.095348</td>\n",
              "      <td>...</td>\n",
              "      <td>48.681541</td>\n",
              "      <td>0.16</td>\n",
              "      <td>68.720001</td>\n",
              "      <td>47.330002</td>\n",
              "      <td>53.200001</td>\n",
              "      <td>0.27</td>\n",
              "      <td>34.090000</td>\n",
              "      <td>2.06</td>\n",
              "      <td>5.88</td>\n",
              "      <td>7.121037</td>\n",
              "    </tr>\n",
              "    <tr>\n",
              "      <th>1</th>\n",
              "      <td>1.47</td>\n",
              "      <td>9.600</td>\n",
              "      <td>27.548195</td>\n",
              "      <td>2.018252</td>\n",
              "      <td>12.12</td>\n",
              "      <td>49.593082</td>\n",
              "      <td>73.068558</td>\n",
              "      <td>4.270353</td>\n",
              "      <td>27.450001</td>\n",
              "      <td>40.931892</td>\n",
              "      <td>...</td>\n",
              "      <td>47.994579</td>\n",
              "      <td>0.16</td>\n",
              "      <td>67.279999</td>\n",
              "      <td>47.380001</td>\n",
              "      <td>54.250000</td>\n",
              "      <td>0.27</td>\n",
              "      <td>33.830002</td>\n",
              "      <td>2.05</td>\n",
              "      <td>5.81</td>\n",
              "      <td>7.507659</td>\n",
              "    </tr>\n",
              "    <tr>\n",
              "      <th>2</th>\n",
              "      <td>1.43</td>\n",
              "      <td>9.720</td>\n",
              "      <td>27.219410</td>\n",
              "      <td>1.840171</td>\n",
              "      <td>12.15</td>\n",
              "      <td>49.504436</td>\n",
              "      <td>73.650787</td>\n",
              "      <td>4.187700</td>\n",
              "      <td>27.430000</td>\n",
              "      <td>40.806889</td>\n",
              "      <td>...</td>\n",
              "      <td>47.409729</td>\n",
              "      <td>0.16</td>\n",
              "      <td>70.320000</td>\n",
              "      <td>48.700001</td>\n",
              "      <td>57.400002</td>\n",
              "      <td>0.28</td>\n",
              "      <td>34.410000</td>\n",
              "      <td>2.07</td>\n",
              "      <td>5.70</td>\n",
              "      <td>7.570597</td>\n",
              "    </tr>\n",
              "    <tr>\n",
              "      <th>3</th>\n",
              "      <td>1.43</td>\n",
              "      <td>9.945</td>\n",
              "      <td>27.119778</td>\n",
              "      <td>1.780811</td>\n",
              "      <td>12.43</td>\n",
              "      <td>49.396095</td>\n",
              "      <td>73.304413</td>\n",
              "      <td>4.251986</td>\n",
              "      <td>26.370001</td>\n",
              "      <td>40.528053</td>\n",
              "      <td>...</td>\n",
              "      <td>47.121948</td>\n",
              "      <td>0.16</td>\n",
              "      <td>71.900002</td>\n",
              "      <td>48.400002</td>\n",
              "      <td>59.849998</td>\n",
              "      <td>0.27</td>\n",
              "      <td>34.180000</td>\n",
              "      <td>2.01</td>\n",
              "      <td>5.56</td>\n",
              "      <td>7.678492</td>\n",
              "    </tr>\n",
              "    <tr>\n",
              "      <th>4</th>\n",
              "      <td>1.51</td>\n",
              "      <td>9.255</td>\n",
              "      <td>27.737495</td>\n",
              "      <td>1.879745</td>\n",
              "      <td>12.70</td>\n",
              "      <td>49.258198</td>\n",
              "      <td>74.483597</td>\n",
              "      <td>4.297903</td>\n",
              "      <td>27.160000</td>\n",
              "      <td>41.008812</td>\n",
              "      <td>...</td>\n",
              "      <td>47.586113</td>\n",
              "      <td>0.16</td>\n",
              "      <td>72.550003</td>\n",
              "      <td>50.750000</td>\n",
              "      <td>56.700001</td>\n",
              "      <td>0.27</td>\n",
              "      <td>34.480000</td>\n",
              "      <td>1.91</td>\n",
              "      <td>5.31</td>\n",
              "      <td>7.615553</td>\n",
              "    </tr>\n",
              "  </tbody>\n",
              "</table>\n",
              "<p>5 rows × 2214 columns</p>\n",
              "</div>\n",
              "      <button class=\"colab-df-convert\" onclick=\"convertToInteractive('df-702c6009-a4e7-4731-8aa0-e39eabd46286')\"\n",
              "              title=\"Convert this dataframe to an interactive table.\"\n",
              "              style=\"display:none;\">\n",
              "        \n",
              "  <svg xmlns=\"http://www.w3.org/2000/svg\" height=\"24px\"viewBox=\"0 0 24 24\"\n",
              "       width=\"24px\">\n",
              "    <path d=\"M0 0h24v24H0V0z\" fill=\"none\"/>\n",
              "    <path d=\"M18.56 5.44l.94 2.06.94-2.06 2.06-.94-2.06-.94-.94-2.06-.94 2.06-2.06.94zm-11 1L8.5 8.5l.94-2.06 2.06-.94-2.06-.94L8.5 2.5l-.94 2.06-2.06.94zm10 10l.94 2.06.94-2.06 2.06-.94-2.06-.94-.94-2.06-.94 2.06-2.06.94z\"/><path d=\"M17.41 7.96l-1.37-1.37c-.4-.4-.92-.59-1.43-.59-.52 0-1.04.2-1.43.59L10.3 9.45l-7.72 7.72c-.78.78-.78 2.05 0 2.83L4 21.41c.39.39.9.59 1.41.59.51 0 1.02-.2 1.41-.59l7.78-7.78 2.81-2.81c.8-.78.8-2.07 0-2.86zM5.41 20L4 18.59l7.72-7.72 1.47 1.35L5.41 20z\"/>\n",
              "  </svg>\n",
              "      </button>\n",
              "      \n",
              "  <style>\n",
              "    .colab-df-container {\n",
              "      display:flex;\n",
              "      flex-wrap:wrap;\n",
              "      gap: 12px;\n",
              "    }\n",
              "\n",
              "    .colab-df-convert {\n",
              "      background-color: #E8F0FE;\n",
              "      border: none;\n",
              "      border-radius: 50%;\n",
              "      cursor: pointer;\n",
              "      display: none;\n",
              "      fill: #1967D2;\n",
              "      height: 32px;\n",
              "      padding: 0 0 0 0;\n",
              "      width: 32px;\n",
              "    }\n",
              "\n",
              "    .colab-df-convert:hover {\n",
              "      background-color: #E2EBFA;\n",
              "      box-shadow: 0px 1px 2px rgba(60, 64, 67, 0.3), 0px 1px 3px 1px rgba(60, 64, 67, 0.15);\n",
              "      fill: #174EA6;\n",
              "    }\n",
              "\n",
              "    [theme=dark] .colab-df-convert {\n",
              "      background-color: #3B4455;\n",
              "      fill: #D2E3FC;\n",
              "    }\n",
              "\n",
              "    [theme=dark] .colab-df-convert:hover {\n",
              "      background-color: #434B5C;\n",
              "      box-shadow: 0px 1px 3px 1px rgba(0, 0, 0, 0.15);\n",
              "      filter: drop-shadow(0px 1px 2px rgba(0, 0, 0, 0.3));\n",
              "      fill: #FFFFFF;\n",
              "    }\n",
              "  </style>\n",
              "\n",
              "      <script>\n",
              "        const buttonEl =\n",
              "          document.querySelector('#df-702c6009-a4e7-4731-8aa0-e39eabd46286 button.colab-df-convert');\n",
              "        buttonEl.style.display =\n",
              "          google.colab.kernel.accessAllowed ? 'block' : 'none';\n",
              "\n",
              "        async function convertToInteractive(key) {\n",
              "          const element = document.querySelector('#df-702c6009-a4e7-4731-8aa0-e39eabd46286');\n",
              "          const dataTable =\n",
              "            await google.colab.kernel.invokeFunction('convertToInteractive',\n",
              "                                                     [key], {});\n",
              "          if (!dataTable) return;\n",
              "\n",
              "          const docLinkHtml = 'Like what you see? Visit the ' +\n",
              "            '<a target=\"_blank\" href=https://colab.research.google.com/notebooks/data_table.ipynb>data table notebook</a>'\n",
              "            + ' to learn more about interactive tables.';\n",
              "          element.innerHTML = '';\n",
              "          dataTable['output_type'] = 'display_data';\n",
              "          await google.colab.output.renderOutput(dataTable, element);\n",
              "          const docLink = document.createElement('div');\n",
              "          docLink.innerHTML = docLinkHtml;\n",
              "          element.appendChild(docLink);\n",
              "        }\n",
              "      </script>\n",
              "    </div>\n",
              "  </div>\n",
              "  "
            ]
          },
          "metadata": {},
          "execution_count": 106
        }
      ]
    },
    {
      "cell_type": "code",
      "source": [
        "x1=values.to_numpy()\n",
        "x1=x1[0:values.shape[0]-1, :]\n",
        "x2=values.to_numpy()\n",
        "x2=x2[1:values.shape[0], :]"
      ],
      "metadata": {
        "id": "qg2Jv6NrFz5H"
      },
      "execution_count": null,
      "outputs": []
    },
    {
      "cell_type": "code",
      "source": [
        "real_return = x2/x1"
      ],
      "metadata": {
        "id": "CvOfFFnuGPWl"
      },
      "execution_count": null,
      "outputs": []
    },
    {
      "cell_type": "code",
      "source": [
        "investments, objective_func, g, t, it = run_experiment(1200, 1000, 20, [frank_wolfe, variant2, FW_PW_correct], real_return)"
      ],
      "metadata": {
        "colab": {
          "base_uri": "https://localhost:8080/",
          "height": 1000
        },
        "id": "Yw0ZTGlQG0a_",
        "outputId": "1173d12e-1a79-4ef5-e9e9-08790d4a3a41"
      },
      "execution_count": null,
      "outputs": [
        {
          "output_type": "stream",
          "name": "stdout",
          "text": [
            "frank_wolfe  has done a correct execution\n",
            "variant2  has done a correct execution\n",
            "FW_PW_correct  has done a correct execution\n"
          ]
        },
        {
          "output_type": "display_data",
          "data": {
            "text/plain": [
              "<Figure size 432x288 with 1 Axes>"
            ],
            "image/png": "[encoded data removed]"
          },
          "metadata": {
            "needs_background": "light"
          }
        },
        {
          "output_type": "display_data",
          "data": {
            "text/plain": [
              "<Figure size 432x288 with 1 Axes>"
            ],
            "image/png": "[encoded data removed]"
          },
          "metadata": {
            "needs_background": "light"
          }
        },
        {
          "output_type": "display_data",
          "data": {
            "text/plain": [
              "<Figure size 432x288 with 1 Axes>"
            ],
            "image/png": "[encoded data removed]"
          },
          "metadata": {
            "needs_background": "light"
          }
        },
        {
          "output_type": "display_data",
          "data": {
            "text/plain": [
              "<Figure size 432x288 with 1 Axes>"
            ],
            "image/png": "[encoded data removed]"
          },
          "metadata": {
            "needs_background": "light"
          }
        },
        {
          "output_type": "display_data",
          "data": {
            "text/plain": [
              "<Figure size 432x288 with 1 Axes>"
            ],
            "image/png": "[encoded data removed]"
          },
          "metadata": {
            "needs_background": "light"
          }
        },
        {
          "output_type": "display_data",
          "data": {
            "text/plain": [
              "'Time to execution'"
            ],
            "application/vnd.google.colaboratory.intrinsic+json": {
              "type": "string"
            }
          },
          "metadata": {}
        },
        {
          "output_type": "display_data",
          "data": {
            "text/plain": [
              "   frank_wolfe  variant2  FW_PW_correct\n",
              "0     0.105397   0.12483       0.152635"
            ],
            "text/html": [
              "\n",
              "  <div id=\"df-3b750923-9eb9-40dc-820b-39afe67dc122\">\n",
              "    <div class=\"colab-df-container\">\n",
              "      <div>\n",
              "<style scoped>\n",
              "    .dataframe tbody tr th:only-of-type {\n",
              "        vertical-align: middle;\n",
              "    }\n",
              "\n",
              "    .dataframe tbody tr th {\n",
              "        vertical-align: top;\n",
              "    }\n",
              "\n",
              "    .dataframe thead th {\n",
              "        text-align: right;\n",
              "    }\n",
              "</style>\n",
              "<table border=\"1\" class=\"dataframe\">\n",
              "  <thead>\n",
              "    <tr style=\"text-align: right;\">\n",
              "      <th></th>\n",
              "      <th>frank_wolfe</th>\n",
              "      <th>variant2</th>\n",
              "      <th>FW_PW_correct</th>\n",
              "    </tr>\n",
              "  </thead>\n",
              "  <tbody>\n",
              "    <tr>\n",
              "      <th>0</th>\n",
              "      <td>0.105397</td>\n",
              "      <td>0.12483</td>\n",
              "      <td>0.152635</td>\n",
              "    </tr>\n",
              "  </tbody>\n",
              "</table>\n",
              "</div>\n",
              "      <button class=\"colab-df-convert\" onclick=\"convertToInteractive('df-3b750923-9eb9-40dc-820b-39afe67dc122')\"\n",
              "              title=\"Convert this dataframe to an interactive table.\"\n",
              "              style=\"display:none;\">\n",
              "        \n",
              "  <svg xmlns=\"http://www.w3.org/2000/svg\" height=\"24px\"viewBox=\"0 0 24 24\"\n",
              "       width=\"24px\">\n",
              "    <path d=\"M0 0h24v24H0V0z\" fill=\"none\"/>\n",
              "    <path d=\"M18.56 5.44l.94 2.06.94-2.06 2.06-.94-2.06-.94-.94-2.06-.94 2.06-2.06.94zm-11 1L8.5 8.5l.94-2.06 2.06-.94-2.06-.94L8.5 2.5l-.94 2.06-2.06.94zm10 10l.94 2.06.94-2.06 2.06-.94-2.06-.94-.94-2.06-.94 2.06-2.06.94z\"/><path d=\"M17.41 7.96l-1.37-1.37c-.4-.4-.92-.59-1.43-.59-.52 0-1.04.2-1.43.59L10.3 9.45l-7.72 7.72c-.78.78-.78 2.05 0 2.83L4 21.41c.39.39.9.59 1.41.59.51 0 1.02-.2 1.41-.59l7.78-7.78 2.81-2.81c.8-.78.8-2.07 0-2.86zM5.41 20L4 18.59l7.72-7.72 1.47 1.35L5.41 20z\"/>\n",
              "  </svg>\n",
              "      </button>\n",
              "      \n",
              "  <style>\n",
              "    .colab-df-container {\n",
              "      display:flex;\n",
              "      flex-wrap:wrap;\n",
              "      gap: 12px;\n",
              "    }\n",
              "\n",
              "    .colab-df-convert {\n",
              "      background-color: #E8F0FE;\n",
              "      border: none;\n",
              "      border-radius: 50%;\n",
              "      cursor: pointer;\n",
              "      display: none;\n",
              "      fill: #1967D2;\n",
              "      height: 32px;\n",
              "      padding: 0 0 0 0;\n",
              "      width: 32px;\n",
              "    }\n",
              "\n",
              "    .colab-df-convert:hover {\n",
              "      background-color: #E2EBFA;\n",
              "      box-shadow: 0px 1px 2px rgba(60, 64, 67, 0.3), 0px 1px 3px 1px rgba(60, 64, 67, 0.15);\n",
              "      fill: #174EA6;\n",
              "    }\n",
              "\n",
              "    [theme=dark] .colab-df-convert {\n",
              "      background-color: #3B4455;\n",
              "      fill: #D2E3FC;\n",
              "    }\n",
              "\n",
              "    [theme=dark] .colab-df-convert:hover {\n",
              "      background-color: #434B5C;\n",
              "      box-shadow: 0px 1px 3px 1px rgba(0, 0, 0, 0.15);\n",
              "      filter: drop-shadow(0px 1px 2px rgba(0, 0, 0, 0.3));\n",
              "      fill: #FFFFFF;\n",
              "    }\n",
              "  </style>\n",
              "\n",
              "      <script>\n",
              "        const buttonEl =\n",
              "          document.querySelector('#df-3b750923-9eb9-40dc-820b-39afe67dc122 button.colab-df-convert');\n",
              "        buttonEl.style.display =\n",
              "          google.colab.kernel.accessAllowed ? 'block' : 'none';\n",
              "\n",
              "        async function convertToInteractive(key) {\n",
              "          const element = document.querySelector('#df-3b750923-9eb9-40dc-820b-39afe67dc122');\n",
              "          const dataTable =\n",
              "            await google.colab.kernel.invokeFunction('convertToInteractive',\n",
              "                                                     [key], {});\n",
              "          if (!dataTable) return;\n",
              "\n",
              "          const docLinkHtml = 'Like what you see? Visit the ' +\n",
              "            '<a target=\"_blank\" href=https://colab.research.google.com/notebooks/data_table.ipynb>data table notebook</a>'\n",
              "            + ' to learn more about interactive tables.';\n",
              "          element.innerHTML = '';\n",
              "          dataTable['output_type'] = 'display_data';\n",
              "          await google.colab.output.renderOutput(dataTable, element);\n",
              "          const docLink = document.createElement('div');\n",
              "          docLink.innerHTML = docLinkHtml;\n",
              "          element.appendChild(docLink);\n",
              "        }\n",
              "      </script>\n",
              "    </div>\n",
              "  </div>\n",
              "  "
            ]
          },
          "metadata": {}
        },
        {
          "output_type": "display_data",
          "data": {
            "text/plain": [
              "<Figure size 432x288 with 2 Axes>"
            ],
            "image/png": "[encoded data removed]"
          },
          "metadata": {
            "needs_background": "light"
          }
        }
      ]
    }
  ]
}